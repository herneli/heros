{
 "cells": [
  {
   "cell_type": "code",
   "execution_count": 1,
   "metadata": {},
   "outputs": [],
   "source": [
    "import os\n",
    "import sys\n",
    "import pandas as pd\n",
    "sys.path.insert(1, os.path.abspath('..'))\n",
    "import django_initializer\n",
    "from heros.api.models import Document, DocumentRelation"
   ]
  },
  {
   "cell_type": "code",
   "execution_count": 5,
   "metadata": {},
   "outputs": [
    {
     "ename": "NotSupportedError",
     "evalue": "contains lookup is not supported on this database backend.",
     "output_type": "error",
     "traceback": [
      "\u001b[0;31m---------------------------------------------------------------------------\u001b[0m",
      "\u001b[0;31mNotSupportedError\u001b[0m                         Traceback (most recent call last)",
      "\u001b[1;32m/Users/hernaj34/projects/herneli/heros/notebooks/play.ipynb Cell 2'\u001b[0m in \u001b[0;36m<module>\u001b[0;34m\u001b[0m\n\u001b[1;32m      <a href='vscode-notebook-cell:/Users/hernaj34/projects/herneli/heros/notebooks/play.ipynb#ch0000006?line=0'>1</a>\u001b[0m docs \u001b[39m=\u001b[39m Document\u001b[39m.\u001b[39mobjects\u001b[39m.\u001b[39mfilter(data__name__contains\u001b[39m=\u001b[39m\u001b[39m'\u001b[39m\u001b[39mRo\u001b[39m\u001b[39m'\u001b[39m)\n\u001b[0;32m----> <a href='vscode-notebook-cell:/Users/hernaj34/projects/herneli/heros/notebooks/play.ipynb#ch0000006?line=1'>2</a>\u001b[0m \u001b[39mprint\u001b[39;49m(docs\u001b[39m.\u001b[39;49mvalues_list())\n",
      "File \u001b[0;32m~/projects/herneli/heros/.venv/lib/python3.8/site-packages/django/db/models/query.py:256\u001b[0m, in \u001b[0;36mQuerySet.__repr__\u001b[0;34m(self)\u001b[0m\n\u001b[1;32m    <a href='file:///~/projects/herneli/heros/.venv/lib/python3.8/site-packages/django/db/models/query.py?line=254'>255</a>\u001b[0m \u001b[39mdef\u001b[39;00m \u001b[39m__repr__\u001b[39m(\u001b[39mself\u001b[39m):\n\u001b[0;32m--> <a href='file:///~/projects/herneli/heros/.venv/lib/python3.8/site-packages/django/db/models/query.py?line=255'>256</a>\u001b[0m     data \u001b[39m=\u001b[39m \u001b[39mlist\u001b[39;49m(\u001b[39mself\u001b[39;49m[:REPR_OUTPUT_SIZE \u001b[39m+\u001b[39;49m \u001b[39m1\u001b[39;49m])\n\u001b[1;32m    <a href='file:///~/projects/herneli/heros/.venv/lib/python3.8/site-packages/django/db/models/query.py?line=256'>257</a>\u001b[0m     \u001b[39mif\u001b[39;00m \u001b[39mlen\u001b[39m(data) \u001b[39m>\u001b[39m REPR_OUTPUT_SIZE:\n\u001b[1;32m    <a href='file:///~/projects/herneli/heros/.venv/lib/python3.8/site-packages/django/db/models/query.py?line=257'>258</a>\u001b[0m         data[\u001b[39m-\u001b[39m\u001b[39m1\u001b[39m] \u001b[39m=\u001b[39m \u001b[39m\"\u001b[39m\u001b[39m...(remaining elements truncated)...\u001b[39m\u001b[39m\"\u001b[39m\n",
      "File \u001b[0;32m~/projects/herneli/heros/.venv/lib/python3.8/site-packages/django/db/models/query.py:262\u001b[0m, in \u001b[0;36mQuerySet.__len__\u001b[0;34m(self)\u001b[0m\n\u001b[1;32m    <a href='file:///~/projects/herneli/heros/.venv/lib/python3.8/site-packages/django/db/models/query.py?line=260'>261</a>\u001b[0m \u001b[39mdef\u001b[39;00m \u001b[39m__len__\u001b[39m(\u001b[39mself\u001b[39m):\n\u001b[0;32m--> <a href='file:///~/projects/herneli/heros/.venv/lib/python3.8/site-packages/django/db/models/query.py?line=261'>262</a>\u001b[0m     \u001b[39mself\u001b[39;49m\u001b[39m.\u001b[39;49m_fetch_all()\n\u001b[1;32m    <a href='file:///~/projects/herneli/heros/.venv/lib/python3.8/site-packages/django/db/models/query.py?line=262'>263</a>\u001b[0m     \u001b[39mreturn\u001b[39;00m \u001b[39mlen\u001b[39m(\u001b[39mself\u001b[39m\u001b[39m.\u001b[39m_result_cache)\n",
      "File \u001b[0;32m~/projects/herneli/heros/.venv/lib/python3.8/site-packages/django/db/models/query.py:1354\u001b[0m, in \u001b[0;36mQuerySet._fetch_all\u001b[0;34m(self)\u001b[0m\n\u001b[1;32m   <a href='file:///~/projects/herneli/heros/.venv/lib/python3.8/site-packages/django/db/models/query.py?line=1351'>1352</a>\u001b[0m \u001b[39mdef\u001b[39;00m \u001b[39m_fetch_all\u001b[39m(\u001b[39mself\u001b[39m):\n\u001b[1;32m   <a href='file:///~/projects/herneli/heros/.venv/lib/python3.8/site-packages/django/db/models/query.py?line=1352'>1353</a>\u001b[0m     \u001b[39mif\u001b[39;00m \u001b[39mself\u001b[39m\u001b[39m.\u001b[39m_result_cache \u001b[39mis\u001b[39;00m \u001b[39mNone\u001b[39;00m:\n\u001b[0;32m-> <a href='file:///~/projects/herneli/heros/.venv/lib/python3.8/site-packages/django/db/models/query.py?line=1353'>1354</a>\u001b[0m         \u001b[39mself\u001b[39m\u001b[39m.\u001b[39m_result_cache \u001b[39m=\u001b[39m \u001b[39mlist\u001b[39;49m(\u001b[39mself\u001b[39;49m\u001b[39m.\u001b[39;49m_iterable_class(\u001b[39mself\u001b[39;49m))\n\u001b[1;32m   <a href='file:///~/projects/herneli/heros/.venv/lib/python3.8/site-packages/django/db/models/query.py?line=1354'>1355</a>\u001b[0m     \u001b[39mif\u001b[39;00m \u001b[39mself\u001b[39m\u001b[39m.\u001b[39m_prefetch_related_lookups \u001b[39mand\u001b[39;00m \u001b[39mnot\u001b[39;00m \u001b[39mself\u001b[39m\u001b[39m.\u001b[39m_prefetch_done:\n\u001b[1;32m   <a href='file:///~/projects/herneli/heros/.venv/lib/python3.8/site-packages/django/db/models/query.py?line=1355'>1356</a>\u001b[0m         \u001b[39mself\u001b[39m\u001b[39m.\u001b[39m_prefetch_related_objects()\n",
      "File \u001b[0;32m~/projects/herneli/heros/.venv/lib/python3.8/site-packages/django/db/models/query.py:140\u001b[0m, in \u001b[0;36mValuesListIterable.__iter__\u001b[0;34m(self)\u001b[0m\n\u001b[1;32m    <a href='file:///~/projects/herneli/heros/.venv/lib/python3.8/site-packages/django/db/models/query.py?line=134'>135</a>\u001b[0m         rowfactory \u001b[39m=\u001b[39m operator\u001b[39m.\u001b[39mitemgetter(\u001b[39m*\u001b[39m[index_map[f] \u001b[39mfor\u001b[39;00m f \u001b[39min\u001b[39;00m fields])\n\u001b[1;32m    <a href='file:///~/projects/herneli/heros/.venv/lib/python3.8/site-packages/django/db/models/query.py?line=135'>136</a>\u001b[0m         \u001b[39mreturn\u001b[39;00m \u001b[39mmap\u001b[39m(\n\u001b[1;32m    <a href='file:///~/projects/herneli/heros/.venv/lib/python3.8/site-packages/django/db/models/query.py?line=136'>137</a>\u001b[0m             rowfactory,\n\u001b[1;32m    <a href='file:///~/projects/herneli/heros/.venv/lib/python3.8/site-packages/django/db/models/query.py?line=137'>138</a>\u001b[0m             compiler\u001b[39m.\u001b[39mresults_iter(chunked_fetch\u001b[39m=\u001b[39m\u001b[39mself\u001b[39m\u001b[39m.\u001b[39mchunked_fetch, chunk_size\u001b[39m=\u001b[39m\u001b[39mself\u001b[39m\u001b[39m.\u001b[39mchunk_size)\n\u001b[1;32m    <a href='file:///~/projects/herneli/heros/.venv/lib/python3.8/site-packages/django/db/models/query.py?line=138'>139</a>\u001b[0m         )\n\u001b[0;32m--> <a href='file:///~/projects/herneli/heros/.venv/lib/python3.8/site-packages/django/db/models/query.py?line=139'>140</a>\u001b[0m \u001b[39mreturn\u001b[39;00m compiler\u001b[39m.\u001b[39;49mresults_iter(tuple_expected\u001b[39m=\u001b[39;49m\u001b[39mTrue\u001b[39;49;00m, chunked_fetch\u001b[39m=\u001b[39;49m\u001b[39mself\u001b[39;49m\u001b[39m.\u001b[39;49mchunked_fetch, chunk_size\u001b[39m=\u001b[39;49m\u001b[39mself\u001b[39;49m\u001b[39m.\u001b[39;49mchunk_size)\n",
      "File \u001b[0;32m~/projects/herneli/heros/.venv/lib/python3.8/site-packages/django/db/models/sql/compiler.py:1157\u001b[0m, in \u001b[0;36mSQLCompiler.results_iter\u001b[0;34m(self, results, tuple_expected, chunked_fetch, chunk_size)\u001b[0m\n\u001b[1;32m   <a href='file:///~/projects/herneli/heros/.venv/lib/python3.8/site-packages/django/db/models/sql/compiler.py?line=1154'>1155</a>\u001b[0m \u001b[39m\"\"\"Return an iterator over the results from executing this query.\"\"\"\u001b[39;00m\n\u001b[1;32m   <a href='file:///~/projects/herneli/heros/.venv/lib/python3.8/site-packages/django/db/models/sql/compiler.py?line=1155'>1156</a>\u001b[0m \u001b[39mif\u001b[39;00m results \u001b[39mis\u001b[39;00m \u001b[39mNone\u001b[39;00m:\n\u001b[0;32m-> <a href='file:///~/projects/herneli/heros/.venv/lib/python3.8/site-packages/django/db/models/sql/compiler.py?line=1156'>1157</a>\u001b[0m     results \u001b[39m=\u001b[39m \u001b[39mself\u001b[39;49m\u001b[39m.\u001b[39;49mexecute_sql(MULTI, chunked_fetch\u001b[39m=\u001b[39;49mchunked_fetch, chunk_size\u001b[39m=\u001b[39;49mchunk_size)\n\u001b[1;32m   <a href='file:///~/projects/herneli/heros/.venv/lib/python3.8/site-packages/django/db/models/sql/compiler.py?line=1157'>1158</a>\u001b[0m fields \u001b[39m=\u001b[39m [s[\u001b[39m0\u001b[39m] \u001b[39mfor\u001b[39;00m s \u001b[39min\u001b[39;00m \u001b[39mself\u001b[39m\u001b[39m.\u001b[39mselect[\u001b[39m0\u001b[39m:\u001b[39mself\u001b[39m\u001b[39m.\u001b[39mcol_count]]\n\u001b[1;32m   <a href='file:///~/projects/herneli/heros/.venv/lib/python3.8/site-packages/django/db/models/sql/compiler.py?line=1158'>1159</a>\u001b[0m converters \u001b[39m=\u001b[39m \u001b[39mself\u001b[39m\u001b[39m.\u001b[39mget_converters(fields)\n",
      "File \u001b[0;32m~/projects/herneli/heros/.venv/lib/python3.8/site-packages/django/db/models/sql/compiler.py:1189\u001b[0m, in \u001b[0;36mSQLCompiler.execute_sql\u001b[0;34m(self, result_type, chunked_fetch, chunk_size)\u001b[0m\n\u001b[1;32m   <a href='file:///~/projects/herneli/heros/.venv/lib/python3.8/site-packages/django/db/models/sql/compiler.py?line=1186'>1187</a>\u001b[0m result_type \u001b[39m=\u001b[39m result_type \u001b[39mor\u001b[39;00m NO_RESULTS\n\u001b[1;32m   <a href='file:///~/projects/herneli/heros/.venv/lib/python3.8/site-packages/django/db/models/sql/compiler.py?line=1187'>1188</a>\u001b[0m \u001b[39mtry\u001b[39;00m:\n\u001b[0;32m-> <a href='file:///~/projects/herneli/heros/.venv/lib/python3.8/site-packages/django/db/models/sql/compiler.py?line=1188'>1189</a>\u001b[0m     sql, params \u001b[39m=\u001b[39m \u001b[39mself\u001b[39;49m\u001b[39m.\u001b[39;49mas_sql()\n\u001b[1;32m   <a href='file:///~/projects/herneli/heros/.venv/lib/python3.8/site-packages/django/db/models/sql/compiler.py?line=1189'>1190</a>\u001b[0m     \u001b[39mif\u001b[39;00m \u001b[39mnot\u001b[39;00m sql:\n\u001b[1;32m   <a href='file:///~/projects/herneli/heros/.venv/lib/python3.8/site-packages/django/db/models/sql/compiler.py?line=1190'>1191</a>\u001b[0m         \u001b[39mraise\u001b[39;00m EmptyResultSet\n",
      "File \u001b[0;32m~/projects/herneli/heros/.venv/lib/python3.8/site-packages/django/db/models/sql/compiler.py:547\u001b[0m, in \u001b[0;36mSQLCompiler.as_sql\u001b[0;34m(self, with_limits, with_col_aliases)\u001b[0m\n\u001b[1;32m    <a href='file:///~/projects/herneli/heros/.venv/lib/python3.8/site-packages/django/db/models/sql/compiler.py?line=544'>545</a>\u001b[0m from_, f_params \u001b[39m=\u001b[39m \u001b[39mself\u001b[39m\u001b[39m.\u001b[39mget_from_clause()\n\u001b[1;32m    <a href='file:///~/projects/herneli/heros/.venv/lib/python3.8/site-packages/django/db/models/sql/compiler.py?line=545'>546</a>\u001b[0m \u001b[39mtry\u001b[39;00m:\n\u001b[0;32m--> <a href='file:///~/projects/herneli/heros/.venv/lib/python3.8/site-packages/django/db/models/sql/compiler.py?line=546'>547</a>\u001b[0m     where, w_params \u001b[39m=\u001b[39m \u001b[39mself\u001b[39;49m\u001b[39m.\u001b[39;49mcompile(\u001b[39mself\u001b[39;49m\u001b[39m.\u001b[39;49mwhere) \u001b[39mif\u001b[39;00m \u001b[39mself\u001b[39m\u001b[39m.\u001b[39mwhere \u001b[39mis\u001b[39;00m \u001b[39mnot\u001b[39;00m \u001b[39mNone\u001b[39;00m \u001b[39melse\u001b[39;00m (\u001b[39m'\u001b[39m\u001b[39m'\u001b[39m, [])\n\u001b[1;32m    <a href='file:///~/projects/herneli/heros/.venv/lib/python3.8/site-packages/django/db/models/sql/compiler.py?line=547'>548</a>\u001b[0m \u001b[39mexcept\u001b[39;00m EmptyResultSet:\n\u001b[1;32m    <a href='file:///~/projects/herneli/heros/.venv/lib/python3.8/site-packages/django/db/models/sql/compiler.py?line=548'>549</a>\u001b[0m     \u001b[39mif\u001b[39;00m \u001b[39mself\u001b[39m\u001b[39m.\u001b[39melide_empty:\n",
      "File \u001b[0;32m~/projects/herneli/heros/.venv/lib/python3.8/site-packages/django/db/models/sql/compiler.py:463\u001b[0m, in \u001b[0;36mSQLCompiler.compile\u001b[0;34m(self, node)\u001b[0m\n\u001b[1;32m    <a href='file:///~/projects/herneli/heros/.venv/lib/python3.8/site-packages/django/db/models/sql/compiler.py?line=460'>461</a>\u001b[0m     sql, params \u001b[39m=\u001b[39m vendor_impl(\u001b[39mself\u001b[39m, \u001b[39mself\u001b[39m\u001b[39m.\u001b[39mconnection)\n\u001b[1;32m    <a href='file:///~/projects/herneli/heros/.venv/lib/python3.8/site-packages/django/db/models/sql/compiler.py?line=461'>462</a>\u001b[0m \u001b[39melse\u001b[39;00m:\n\u001b[0;32m--> <a href='file:///~/projects/herneli/heros/.venv/lib/python3.8/site-packages/django/db/models/sql/compiler.py?line=462'>463</a>\u001b[0m     sql, params \u001b[39m=\u001b[39m node\u001b[39m.\u001b[39;49mas_sql(\u001b[39mself\u001b[39;49m, \u001b[39mself\u001b[39;49m\u001b[39m.\u001b[39;49mconnection)\n\u001b[1;32m    <a href='file:///~/projects/herneli/heros/.venv/lib/python3.8/site-packages/django/db/models/sql/compiler.py?line=463'>464</a>\u001b[0m \u001b[39mreturn\u001b[39;00m sql, params\n",
      "File \u001b[0;32m~/projects/herneli/heros/.venv/lib/python3.8/site-packages/django/db/models/sql/where.py:81\u001b[0m, in \u001b[0;36mWhereNode.as_sql\u001b[0;34m(self, compiler, connection)\u001b[0m\n\u001b[1;32m     <a href='file:///~/projects/herneli/heros/.venv/lib/python3.8/site-packages/django/db/models/sql/where.py?line=78'>79</a>\u001b[0m \u001b[39mfor\u001b[39;00m child \u001b[39min\u001b[39;00m \u001b[39mself\u001b[39m\u001b[39m.\u001b[39mchildren:\n\u001b[1;32m     <a href='file:///~/projects/herneli/heros/.venv/lib/python3.8/site-packages/django/db/models/sql/where.py?line=79'>80</a>\u001b[0m     \u001b[39mtry\u001b[39;00m:\n\u001b[0;32m---> <a href='file:///~/projects/herneli/heros/.venv/lib/python3.8/site-packages/django/db/models/sql/where.py?line=80'>81</a>\u001b[0m         sql, params \u001b[39m=\u001b[39m compiler\u001b[39m.\u001b[39;49mcompile(child)\n\u001b[1;32m     <a href='file:///~/projects/herneli/heros/.venv/lib/python3.8/site-packages/django/db/models/sql/where.py?line=81'>82</a>\u001b[0m     \u001b[39mexcept\u001b[39;00m EmptyResultSet:\n\u001b[1;32m     <a href='file:///~/projects/herneli/heros/.venv/lib/python3.8/site-packages/django/db/models/sql/where.py?line=82'>83</a>\u001b[0m         empty_needed \u001b[39m-\u001b[39m\u001b[39m=\u001b[39m \u001b[39m1\u001b[39m\n",
      "File \u001b[0;32m~/projects/herneli/heros/.venv/lib/python3.8/site-packages/django/db/models/sql/compiler.py:463\u001b[0m, in \u001b[0;36mSQLCompiler.compile\u001b[0;34m(self, node)\u001b[0m\n\u001b[1;32m    <a href='file:///~/projects/herneli/heros/.venv/lib/python3.8/site-packages/django/db/models/sql/compiler.py?line=460'>461</a>\u001b[0m     sql, params \u001b[39m=\u001b[39m vendor_impl(\u001b[39mself\u001b[39m, \u001b[39mself\u001b[39m\u001b[39m.\u001b[39mconnection)\n\u001b[1;32m    <a href='file:///~/projects/herneli/heros/.venv/lib/python3.8/site-packages/django/db/models/sql/compiler.py?line=461'>462</a>\u001b[0m \u001b[39melse\u001b[39;00m:\n\u001b[0;32m--> <a href='file:///~/projects/herneli/heros/.venv/lib/python3.8/site-packages/django/db/models/sql/compiler.py?line=462'>463</a>\u001b[0m     sql, params \u001b[39m=\u001b[39m node\u001b[39m.\u001b[39;49mas_sql(\u001b[39mself\u001b[39;49m, \u001b[39mself\u001b[39;49m\u001b[39m.\u001b[39;49mconnection)\n\u001b[1;32m    <a href='file:///~/projects/herneli/heros/.venv/lib/python3.8/site-packages/django/db/models/sql/compiler.py?line=463'>464</a>\u001b[0m \u001b[39mreturn\u001b[39;00m sql, params\n",
      "File \u001b[0;32m~/projects/herneli/heros/.venv/lib/python3.8/site-packages/django/db/models/fields/json.py:143\u001b[0m, in \u001b[0;36mDataContains.as_sql\u001b[0;34m(self, compiler, connection)\u001b[0m\n\u001b[1;32m    <a href='file:///~/projects/herneli/heros/.venv/lib/python3.8/site-packages/django/db/models/fields/json.py?line=140'>141</a>\u001b[0m \u001b[39mdef\u001b[39;00m \u001b[39mas_sql\u001b[39m(\u001b[39mself\u001b[39m, compiler, connection):\n\u001b[1;32m    <a href='file:///~/projects/herneli/heros/.venv/lib/python3.8/site-packages/django/db/models/fields/json.py?line=141'>142</a>\u001b[0m     \u001b[39mif\u001b[39;00m \u001b[39mnot\u001b[39;00m connection\u001b[39m.\u001b[39mfeatures\u001b[39m.\u001b[39msupports_json_field_contains:\n\u001b[0;32m--> <a href='file:///~/projects/herneli/heros/.venv/lib/python3.8/site-packages/django/db/models/fields/json.py?line=142'>143</a>\u001b[0m         \u001b[39mraise\u001b[39;00m NotSupportedError(\n\u001b[1;32m    <a href='file:///~/projects/herneli/heros/.venv/lib/python3.8/site-packages/django/db/models/fields/json.py?line=143'>144</a>\u001b[0m             \u001b[39m'\u001b[39m\u001b[39mcontains lookup is not supported on this database backend.\u001b[39m\u001b[39m'\u001b[39m\n\u001b[1;32m    <a href='file:///~/projects/herneli/heros/.venv/lib/python3.8/site-packages/django/db/models/fields/json.py?line=144'>145</a>\u001b[0m         )\n\u001b[1;32m    <a href='file:///~/projects/herneli/heros/.venv/lib/python3.8/site-packages/django/db/models/fields/json.py?line=145'>146</a>\u001b[0m     lhs, lhs_params \u001b[39m=\u001b[39m \u001b[39mself\u001b[39m\u001b[39m.\u001b[39mprocess_lhs(compiler, connection)\n\u001b[1;32m    <a href='file:///~/projects/herneli/heros/.venv/lib/python3.8/site-packages/django/db/models/fields/json.py?line=146'>147</a>\u001b[0m     rhs, rhs_params \u001b[39m=\u001b[39m \u001b[39mself\u001b[39m\u001b[39m.\u001b[39mprocess_rhs(compiler, connection)\n",
      "\u001b[0;31mNotSupportedError\u001b[0m: contains lookup is not supported on this database backend."
     ]
    }
   ],
   "source": [
    "docs = Document.objects.filter(data__name__contains='Ro')\n",
    "print(docs.values_list())"
   ]
  },
  {
   "cell_type": "code",
   "execution_count": 2,
   "metadata": {},
   "outputs": [],
   "source": [
    "Document.objects.all().delete()\n",
    "folder_root = Document(document_type=\"folder\", code=\"root\",data={\"name\": \"Root\"})\n",
    "folder_root.save()\n",
    "pdf1 = Document(document_type=\"file\", code=\"pdf1\", data={\"name\": \"doc1\", \"src\":\"/Users/hernaj34/tmp/heros/pdf1.pdf\"})\n",
    "pdf1.save()\n",
    "img1 = Document(document_type=\"file\", code=\"img1\", data={\"name\": \"doc1\", \"src\":\"/Users/hernaj34/tmp/heros/img1.jpg\"})\n",
    "img1.save()\n"
   ]
  },
  {
   "cell_type": "code",
   "execution_count": 3,
   "metadata": {},
   "outputs": [],
   "source": [
    "rel1 = DocumentRelation(document_base=folder_root,document_related=pdf1, relation=\"children\")\n",
    "rel1.save()\n",
    "rel2 = DocumentRelation(document_base=folder_root,document_related=img1, relation=\"children\")\n",
    "rel2.save()\n"
   ]
  },
  {
   "cell_type": "code",
   "execution_count": 2,
   "metadata": {},
   "outputs": [
    {
     "name": "stdout",
     "output_type": "stream",
     "text": [
      "folder-root/file-pdf1/children\n",
      "folder-root/file-img1/children\n"
     ]
    }
   ],
   "source": [
    "folder_root = Document.objects.filter(document_type=\"folder\", code=\"root\").first()\n",
    "relations = folder_root.relations_as_base.all()\n",
    "\n",
    "for relation in relations:\n",
    "    print(relation)\n"
   ]
  },
  {
   "cell_type": "code",
   "execution_count": 4,
   "metadata": {},
   "outputs": [
    {
     "name": "stdout",
     "output_type": "stream",
     "text": [
      "folder-root/file-pdf1/children\n"
     ]
    }
   ],
   "source": [
    "doc = Document.objects.filter(document_type=\"file\", code=\"pdf1\").first()\n",
    "relations = doc.relations_as_base.all()\n",
    "\n",
    "for relation in relations:\n",
    "    print(relation)\n",
    "\n",
    "relations = doc.relations_as_related.all()\n",
    "\n",
    "for relation in relations:\n",
    "    print(relation)"
   ]
  },
  {
   "cell_type": "code",
   "execution_count": 9,
   "metadata": {},
   "outputs": [],
   "source": [
    "vals = {\"name\":\"Jordi\"}"
   ]
  },
  {
   "cell_type": "code",
   "execution_count": 2,
   "metadata": {},
   "outputs": [
    {
     "name": "stdout",
     "output_type": "stream",
     "text": [
      "angie.core 1.0.0\n",
      "angie.hl7 1.0.1\n"
     ]
    }
   ],
   "source": [
    "data = {\n",
    "    \"angie.core\": \"1.0.0\",\n",
    "    \"angie.hl7\": \"1.0.1\"\n",
    "}\n",
    "\n",
    "for package,version in data.items():\n",
    "    print(package,version)"
   ]
  },
  {
   "cell_type": "code",
   "execution_count": 7,
   "metadata": {},
   "outputs": [
    {
     "data": {
      "text/plain": [
       "True"
      ]
     },
     "execution_count": 7,
     "metadata": {},
     "output_type": "execute_result"
    }
   ],
   "source": [
    "bool(123)"
   ]
  },
  {
   "cell_type": "code",
   "execution_count": null,
   "metadata": {},
   "outputs": [],
   "source": []
  }
 ],
 "metadata": {
  "interpreter": {
   "hash": "67ec9cb28e87e81c713729518271293accc38892ec4d1fa10c7126331366fed0"
  },
  "kernelspec": {
   "display_name": "Python 3.8.9 ('.venv': venv)",
   "language": "python",
   "name": "python3"
  },
  "language_info": {
   "codemirror_mode": {
    "name": "ipython",
    "version": 3
   },
   "file_extension": ".py",
   "mimetype": "text/x-python",
   "name": "python",
   "nbconvert_exporter": "python",
   "pygments_lexer": "ipython3",
   "version": "3.8.9"
  },
  "orig_nbformat": 4
 },
 "nbformat": 4,
 "nbformat_minor": 2
}
