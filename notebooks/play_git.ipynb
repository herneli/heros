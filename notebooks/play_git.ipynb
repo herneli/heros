{
 "cells": [
  {
   "cell_type": "code",
   "execution_count": 2,
   "metadata": {},
   "outputs": [],
   "source": [
    "import os\n",
    "import sys\n",
    "sys.path.insert(1, os.path.abspath('..'))\n",
    "import django_initializer"
   ]
  },
  {
   "cell_type": "code",
   "execution_count": 5,
   "metadata": {},
   "outputs": [
    {
     "name": "stdout",
     "output_type": "stream",
     "text": [
      "30dd5d98932ca86d7e39a555d0b4a7d3910c0915\n"
     ]
    }
   ],
   "source": [
    "from heros.configuration.models import ConfigDocument, Package, PackageVersion\n",
    "from heros.configuration.serializers import ConfigDocumentSerializer\n",
    "from git import Repo\n",
    "from os import path\n",
    "import os\n",
    "import shutil\n",
    "import json\n",
    "\n",
    "document_types = ['context','object','method']\n",
    "repo_base_path = path.join(\"..\",\"repos\")\n",
    "\n",
    "class PackageRepository:\n",
    "    def __init__(self, package, version=None):\n",
    "        if not package.remote:\n",
    "            raise Exception(\"Remote repository not updated in package\")\n",
    "        self.package = package\n",
    "        self.version = version\n",
    "        self.repo_path = path.join(repo_base_path, package.code)\n",
    "        if os.path.isdir(self.repo_path):\n",
    "            shutil.rmtree(self.repo_path)\n",
    "        self.repo = Repo.clone_from(package.remote,self.repo_path)\n",
    "\n",
    "    def ensure_version(self):\n",
    "        if not self.version:\n",
    "            raise Exception(\"Version required\")\n",
    "\n",
    "    def checkout_version(self):\n",
    "        self.ensure_version()\n",
    "        if self.version.remote_commit == 'initial':\n",
    "            self.repo.git.checkout('--orphan',self.version.version)\n",
    "        else: \n",
    "            self.repo.git.checkout(self.version.version)\n",
    "\n",
    "    def write_documents_to_repo(self):\n",
    "        self.ensure_version()\n",
    "        for document in self.version.config_documents.all():\n",
    "            document_git_path = '/'.join([\n",
    "                'docs', \n",
    "                document.document_type, \n",
    "                document.code + \".json\"])\n",
    "\n",
    "            document_path = path.join(\n",
    "                self.repo_path ,\n",
    "                'docs', \n",
    "                document.document_type, \n",
    "                document.code + \".json\")\n",
    "\n",
    "            data = ConfigDocumentSerializer(document).data\n",
    "            os.makedirs(os.path.dirname(document_path), exist_ok=True)\n",
    "            with open(document_path, \"w\") as outfile:\n",
    "                json.dump(data, outfile,indent=4)\n",
    "            self.repo.index.add(document_git_path)\n",
    "    def commit(self, message):\n",
    "        return self.repo.index.commit(message)\n",
    "\n",
    "version = PackageVersion.objects.get(pk=1)\n",
    "repo = PackageRepository(version.package,version)\n",
    "repo.checkout_version()\n",
    "repo.write_documents_to_repo()\n",
    "commit = repo.commit(\"New version\")\n",
    "print(commit.hexsha)\n",
    "\n"
   ]
  },
  {
   "cell_type": "code",
   "execution_count": 15,
   "metadata": {},
   "outputs": [],
   "source": [
    "\n",
    "\n",
    "\n",
    "\n",
    "def pull_version(package_version_id):\n",
    "    version = PackageVersion.objects.get(pk=package_version_id)\n",
    "    repo_path = path.join(repo_base_path,version.package.code)\n",
    "\n",
    "    if version.package.remote:\n",
    "        repo = Repo.clone_from(version.package.remote,repo_path)\n",
    "        if version.remote_commit == 'initial':\n",
    "            repo.git.checkout('--orphan',version.version)\n",
    "        else: \n",
    "            repo.git.checkout(version.version)\n",
    "        for document in version.config_documents.all():\n",
    "            document_path = path.join(repo_path,document.document_type,document.code + \".json\")\n",
    "            data = ConfigDocumentSerializer(document).data\n",
    "            os.makedirs(os.path.dirname(document_path), exist_ok=True)\n",
    "            with open(document_path, \"w\") as outfile:\n",
    "                json.dump(data, outfile,indent=4)\n",
    "\n",
    "pull_version(1)        "
   ]
  },
  {
   "cell_type": "code",
   "execution_count": null,
   "metadata": {},
   "outputs": [],
   "source": []
  }
 ],
 "metadata": {
  "interpreter": {
   "hash": "67ec9cb28e87e81c713729518271293accc38892ec4d1fa10c7126331366fed0"
  },
  "kernelspec": {
   "display_name": "Python 3.8.9 ('.venv': venv)",
   "language": "python",
   "name": "python3"
  },
  "language_info": {
   "codemirror_mode": {
    "name": "ipython",
    "version": 3
   },
   "file_extension": ".py",
   "mimetype": "text/x-python",
   "name": "python",
   "nbconvert_exporter": "python",
   "pygments_lexer": "ipython3",
   "version": "3.8.9"
  },
  "orig_nbformat": 4
 },
 "nbformat": 4,
 "nbformat_minor": 2
}
