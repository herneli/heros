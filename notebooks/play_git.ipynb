{
 "cells": [
  {
   "cell_type": "code",
   "execution_count": 1,
   "metadata": {},
   "outputs": [],
   "source": [
    "import os\n",
    "import sys\n",
    "sys.path.insert(1, os.path.abspath('..'))\n",
    "import django_initializer"
   ]
  },
  {
   "cell_type": "code",
   "execution_count": 36,
   "metadata": {},
   "outputs": [],
   "source": [
    "from heros.configuration.models import ConfigDocument, Package, PackageVersion\n",
    "from heros.configuration.serializers import ConfigDocumentSerializer\n",
    "from git import Repo\n",
    "from os import path\n",
    "import os\n",
    "import shutil\n",
    "import json\n",
    "\n",
    "document_types = ['context','object','method']\n",
    "repo_base_path = path.join(\"..\",\"repos\")\n",
    "\n",
    "class PackageRepository:\n",
    "    def __init__(self, package, version=None):\n",
    "        if not package.remote:\n",
    "            raise Exception(\"Remote repository not updated in package\")\n",
    "        self.package = package\n",
    "        self.version = version\n",
    "        self.repo_path = path.join(repo_base_path, package.code)\n",
    "        self.docs_path = path.join(self.repo_path, \"docs\")\n",
    "        if os.path.isdir(self.repo_path):\n",
    "            shutil.rmtree(self.repo_path)\n",
    "        self.repo = Repo.clone_from(package.remote,self.repo_path)\n",
    "\n",
    "    def ensure_version(self):\n",
    "        if not self.version:\n",
    "            raise Exception(\"Version required\")\n",
    "\n",
    "    def checkout_version(self):\n",
    "        self.ensure_version()\n",
    "        if self.version.remote_commit == 'initial':\n",
    "            self.repo.git.checkout('--orphan',self.version.version)\n",
    "        else: \n",
    "            self.repo.git.checkout(self.version.version)\n",
    "\n",
    "    def write_documents_to_repo(self):\n",
    "        self.ensure_version()\n",
    "        for document in self.version.config_documents.all():\n",
    "            document_git_path = '/'.join([\n",
    "                'docs', \n",
    "                document.document_type, \n",
    "                document.code + \".json\"])\n",
    "\n",
    "            document_path = path.join(\n",
    "                self.repo_path ,\n",
    "                'docs', \n",
    "                document.document_type, \n",
    "                document.code + \".json\")\n",
    "\n",
    "            data = ConfigDocumentSerializer(document).data\n",
    "            os.makedirs(os.path.dirname(document_path), exist_ok=True)\n",
    "            with open(document_path, \"w\") as outfile:\n",
    "                json.dump(data, outfile,indent=4)\n",
    "            self.repo.index.add(document_git_path)\n",
    "    def commit_and_push(self, message):\n",
    "        self.ensure_version()\n",
    "        commit = self.repo.index.commit(message)\n",
    "        self.repo.git.push('origin', version.version)\n",
    "        version.local_commit = commit.hexsha\n",
    "        version.remote_commit = commit.hexsha\n",
    "        version.save()\n",
    "\n",
    "    def update_version_status(self):\n",
    "        \n",
    "\n",
    "    def get_repo(self):\n",
    "        return self.repo\n",
    "\n",
    "version = PackageVersion.objects.get(pk=1)\n",
    "repo = PackageRepository(version.package,version)\n",
    "repo.checkout_version()\n",
    "repo.write_documents_to_repo()\n",
    "repo.commit_and_push(\"Plublish at \" + str(datetime.now()))\n",
    "\n"
   ]
  },
  {
   "cell_type": "code",
   "execution_count": 21,
   "metadata": {},
   "outputs": [
    {
     "data": {
      "text/plain": [
       "['./repos/darvel.core/docs/context', './repos/darvel.core/docs/object']"
      ]
     },
     "execution_count": 21,
     "metadata": {},
     "output_type": "execute_result"
    }
   ],
   "source": [
    "from heros.configuration.models import ConfigDocument, Package, PackageVersion\n",
    "from heros.configuration.serializers import ConfigDocumentSerializer\n",
    "from heros.configuration.git import PackageRepository\n",
    "\n",
    "version = PackageVersion.objects.get(pk=1)\n",
    "repo = PackageRepository(version.package,version)\n",
    "\n",
    "\n",
    "# list(filter(os.path.isdir, os.listdir(repo.docs_path)))\n",
    "# list(filter(os.path.isdir, os.path(repo.docs_path,)))\n",
    "\n",
    "def get_directories(dir_path):\n",
    "    directories = []\n",
    "    for dir_item in os.listdir(dir_path):\n",
    "        dir_item_path = os.path.join(dir_path, dir_item)\n",
    "        if os.path.isdir(dir_item_path):\n",
    "            directories.append(dir_item_path)\n",
    "            directories.extend(get_directories(dir_item_path))\n",
    "    return directories\n",
    "\n",
    "dirs = get_directories(repo.docs_path)\n"
   ]
  },
  {
   "cell_type": "code",
   "execution_count": 13,
   "metadata": {},
   "outputs": [
    {
     "ename": "FileNotFoundError",
     "evalue": "[Errno 2] No such file or directory: './repos/docs'",
     "output_type": "error",
     "traceback": [
      "\u001b[0;31m---------------------------------------------------------------------------\u001b[0m",
      "\u001b[0;31mFileNotFoundError\u001b[0m                         Traceback (most recent call last)",
      "\u001b[1;32m/Users/hernaj34/projects/herneli/heros/notebooks/play_git.ipynb Cell 4'\u001b[0m in \u001b[0;36m<module>\u001b[0;34m\u001b[0m\n\u001b[1;32m      <a href='vscode-notebook-cell:/Users/hernaj34/projects/herneli/heros/notebooks/play_git.ipynb#ch0000005?line=3'>4</a>\u001b[0m repo_base_path \u001b[39m=\u001b[39m os\u001b[39m.\u001b[39mpath\u001b[39m.\u001b[39mjoin(\u001b[39m\"\u001b[39m\u001b[39m.\u001b[39m\u001b[39m\"\u001b[39m,\u001b[39m\"\u001b[39m\u001b[39mrepos\u001b[39m\u001b[39m\"\u001b[39m)\n\u001b[1;32m      <a href='vscode-notebook-cell:/Users/hernaj34/projects/herneli/heros/notebooks/play_git.ipynb#ch0000005?line=4'>5</a>\u001b[0m docs_path \u001b[39m=\u001b[39m os\u001b[39m.\u001b[39mpath\u001b[39m.\u001b[39mjoin(repo_base_path, \u001b[39m\"\u001b[39m\u001b[39mdocs\u001b[39m\u001b[39m\"\u001b[39m)\n\u001b[0;32m----> <a href='vscode-notebook-cell:/Users/hernaj34/projects/herneli/heros/notebooks/play_git.ipynb#ch0000005?line=6'>7</a>\u001b[0m \u001b[39mlist\u001b[39m(\u001b[39mfilter\u001b[39m(os\u001b[39m.\u001b[39mpath\u001b[39m.\u001b[39misdir, os\u001b[39m.\u001b[39mpath(docs_path,os\u001b[39m.\u001b[39;49mlistdir(docs_path))))\n",
      "\u001b[0;31mFileNotFoundError\u001b[0m: [Errno 2] No such file or directory: './repos/docs'"
     ]
    }
   ],
   "source": [
    "import os\n",
    "\n",
    "document_types = ['context','object','method']\n",
    "repo_base_path = os.path.join(\".\",\"repos\")\n",
    "docs_path = os.path.join(repo_base_path, \"docs\")\n",
    "\n"
   ]
  },
  {
   "cell_type": "code",
   "execution_count": null,
   "metadata": {},
   "outputs": [],
   "source": []
  }
 ],
 "metadata": {
  "interpreter": {
   "hash": "67ec9cb28e87e81c713729518271293accc38892ec4d1fa10c7126331366fed0"
  },
  "kernelspec": {
   "display_name": "Python 3.8.9 ('.venv': venv)",
   "language": "python",
   "name": "python3"
  },
  "language_info": {
   "codemirror_mode": {
    "name": "ipython",
    "version": 3
   },
   "file_extension": ".py",
   "mimetype": "text/x-python",
   "name": "python",
   "nbconvert_exporter": "python",
   "pygments_lexer": "ipython3",
   "version": "3.8.9"
  },
  "orig_nbformat": 4
 },
 "nbformat": 4,
 "nbformat_minor": 2
}
