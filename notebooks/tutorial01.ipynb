{
 "cells": [
  {
   "cell_type": "code",
   "execution_count": 1,
   "metadata": {},
   "outputs": [],
   "source": [
    "import os\n",
    "import sys\n",
    "import pandas as pd\n",
    "sys.path.insert(1, os.path.abspath('..'))\n",
    "import django_initializer"
   ]
  },
  {
   "cell_type": "code",
   "execution_count": 7,
   "metadata": {},
   "outputs": [
    {
     "data": {
      "text/plain": [
       "<QuerySet [<Document: root>, <Document: pdf1>, <Document: img1>, <Document: cod01>]>"
      ]
     },
     "execution_count": 7,
     "metadata": {},
     "output_type": "execute_result"
    }
   ],
   "source": [
    "from heros.api.models import Document\n",
    "\n",
    "docs = Document.objects.all()\n",
    "docs"
   ]
  },
  {
   "cell_type": "code",
   "execution_count": 2,
   "metadata": {},
   "outputs": [],
   "source": [
    "from heros.api.models import Document\n",
    "doc_tutorial = Document(document_type=\"tutorial\",code=\"cod01\",data={\"name\": \"Jordi\",\"personal_address\": {\"city\": \"Terrassa\", \"postal_code\": \"08221\"}})\n",
    "doc_tutorial.save()"
   ]
  },
  {
   "cell_type": "code",
   "execution_count": 4,
   "metadata": {},
   "outputs": [
    {
     "name": "stdout",
     "output_type": "stream",
     "text": [
      "{'id': 26, 'document_type': 'test', 'code': 'test003', 'data': {'name': 'Test 003', 'postal_code': '08221'}, 'deleted': False, 'deleted_at': None}\n"
     ]
    }
   ],
   "source": [
    "from django.forms.models import model_to_dict\n",
    "doc = Document.objects.get(pk=26)\n",
    "print(model_to_dict(doc))\n"
   ]
  },
  {
   "cell_type": "code",
   "execution_count": null,
   "metadata": {},
   "outputs": [],
   "source": []
  }
 ],
 "metadata": {
  "interpreter": {
   "hash": "67ec9cb28e87e81c713729518271293accc38892ec4d1fa10c7126331366fed0"
  },
  "kernelspec": {
   "display_name": "Python 3.8.9 ('.venv': venv)",
   "language": "python",
   "name": "python3"
  },
  "language_info": {
   "codemirror_mode": {
    "name": "ipython",
    "version": 3
   },
   "file_extension": ".py",
   "mimetype": "text/x-python",
   "name": "python",
   "nbconvert_exporter": "python",
   "pygments_lexer": "ipython3",
   "version": "3.8.9"
  },
  "orig_nbformat": 4
 },
 "nbformat": 4,
 "nbformat_minor": 2
}
